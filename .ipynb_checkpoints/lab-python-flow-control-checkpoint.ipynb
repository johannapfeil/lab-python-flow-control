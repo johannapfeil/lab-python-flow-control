{
 "cells": [
  {
   "cell_type": "markdown",
   "id": "d3bfc191-8885-42ee-b0a0-bbab867c6f9f",
   "metadata": {
    "tags": []
   },
   "source": [
    "# Lab | Flow Control"
   ]
  },
  {
   "cell_type": "markdown",
   "id": "3851fcd1-cf98-4653-9c89-e003b7ec9400",
   "metadata": {},
   "source": [
    "## Exercise: Managing Customer Orders Optimized\n",
    "\n",
    "In the last lab, you were starting an online store that sells various products. To ensure smooth operations, you developed a program that manages customer orders and inventory.\n",
    "\n",
    "You did so without using flow control. Let's go a step further and improve this code.\n",
    "\n",
    "Follow the steps below to complete the exercise:\n",
    "\n",
    "1. Look at your code from the lab data structures, and improve repeated code with loops.\n",
    "\n",
    "2. Instead of asking the user to input the name of three products that a customer wants to order, do the following:\n",
    "    \n",
    "    a. Prompt the user to enter the name of a product that a customer wants to order.\n",
    "    \n",
    "    b. Add the product name to the \"customer_orders\" set.\n",
    "    \n",
    "    c. Ask the user if they want to add another product (yes/no).\n",
    "    \n",
    "    d. Continue the loop until the user does not want to add another product.\n",
    "\n",
    "3. Instead of updating the inventory by subtracting 1 from the quantity of each product, only do it for  the products that were ordered (those in \"customer_orders\")."
   ]
  },
  {
   "cell_type": "markdown",
   "id": "3db9de6d",
   "metadata": {},
   "source": [
    "# Inventory"
   ]
  },
  {
   "cell_type": "code",
   "execution_count": 1,
   "id": "e80a520a",
   "metadata": {},
   "outputs": [],
   "source": [
    "products = ['t-shirt', 'mug', 'hat', 'book', 'keychain']\n",
    "inventory = {}\n",
    "customer_orders = set()"
   ]
  },
  {
   "cell_type": "markdown",
   "id": "9ecfcd74",
   "metadata": {},
   "source": [
    "## Quantity of each product"
   ]
  },
  {
   "cell_type": "code",
   "execution_count": 2,
   "id": "1c840d5b",
   "metadata": {},
   "outputs": [],
   "source": [
    "# Ask the user to specify the quantity of each product\n",
    "def ask_inventory():\n",
    "    for product in products:\n",
    "    \n",
    "        while True:\n",
    "            quantity = input(f'How many items of {product} are available?: ')\n",
    "        \n",
    "            # Check whether the input is valid\n",
    "            if quantity.isdigit() == False: print('Please enter a valid number.')\n",
    "        \n",
    "            else:\n",
    "                # Store the product and its quantity in the inventory\n",
    "                inventory[product] = int(quantity)\n",
    "                break"
   ]
  },
  {
   "cell_type": "code",
   "execution_count": 3,
   "id": "12495133",
   "metadata": {},
   "outputs": [
    {
     "name": "stdout",
     "output_type": "stream",
     "text": [
      "How many items of t-shirt are available?: 9\n",
      "How many items of mug are available?: 45\n",
      "How many items of hat are available?: 8\n",
      "How many items of book are available?: 12\n",
      "How many items of keychain are available?: 11\n",
      "{'t-shirt': 9, 'mug': 45, 'hat': 8, 'book': 12, 'keychain': 11}\n"
     ]
    }
   ],
   "source": [
    "ask_inventory()\n",
    "print(inventory)"
   ]
  },
  {
   "cell_type": "markdown",
   "id": "b32f62a2",
   "metadata": {},
   "source": [
    "## Customer selects 3 products"
   ]
  },
  {
   "cell_type": "code",
   "execution_count": 4,
   "id": "772fcdec",
   "metadata": {},
   "outputs": [],
   "source": [
    "# Ask the user to specify three products\n",
    "def three_products():\n",
    "    while True:\n",
    "        product = input(f'Please enter a product: ').strip()\n",
    "         \n",
    "        # Check whether the input is valid\n",
    "        if product not in products: \n",
    "            print('There is a typo. Try again.')  \n",
    "            \n",
    "        # Store unique products in the set\n",
    "        else:\n",
    "            customer_orders.add(product) \n",
    "            \n",
    "            if input('Do you want to add another product (yes/no)?: ') == 'no':\n",
    "                break"
   ]
  },
  {
   "cell_type": "code",
   "execution_count": 5,
   "id": "a2051bc9",
   "metadata": {},
   "outputs": [
    {
     "name": "stdout",
     "output_type": "stream",
     "text": [
      "Please enter a product: mug\n",
      "Do you want to add another product (yes/no)?: yes\n",
      "Please enter a product: book\n",
      "Do you want to add another product (yes/no)?: no\n",
      "{'mug', 'book'}\n"
     ]
    }
   ],
   "source": [
    "three_products()\n",
    "print(customer_orders)"
   ]
  },
  {
   "cell_type": "markdown",
   "id": "92ee8346",
   "metadata": {},
   "source": [
    "# Statistics\n",
    "## Total products ordered"
   ]
  },
  {
   "cell_type": "code",
   "execution_count": 9,
   "id": "355117aa",
   "metadata": {},
   "outputs": [],
   "source": [
    "#def find_number_products():\n",
    "    #return sum(number_product for product, number_product in inventory.items() if product in customer_orders)"
   ]
  },
  {
   "cell_type": "code",
   "execution_count": 10,
   "id": "41ea4efc",
   "metadata": {},
   "outputs": [
    {
     "name": "stdout",
     "output_type": "stream",
     "text": [
      "57\n"
     ]
    }
   ],
   "source": [
    "#find_number_products = find_number_products()\n",
    "#print(find_number_products)"
   ]
  },
  {
   "cell_type": "markdown",
   "id": "527ad234",
   "metadata": {},
   "source": [
    "## Percentage ordered"
   ]
  },
  {
   "cell_type": "code",
   "execution_count": 11,
   "id": "d278d68d",
   "metadata": {},
   "outputs": [],
   "source": [
    "number_products = len(customer_orders)\n",
    "percentage_ordered = len(customer_orders) / len(products) * 100\n",
    "order_status = (number_products, percentage_ordered)"
   ]
  },
  {
   "cell_type": "code",
   "execution_count": 12,
   "id": "4afee7dd",
   "metadata": {},
   "outputs": [
    {
     "name": "stdout",
     "output_type": "stream",
     "text": [
      "Order Statistics:\n",
      "Total products ordered: 2\n",
      "Percentage of products ordered: 40%\n"
     ]
    }
   ],
   "source": [
    "print(f'''Order Statistics:\n",
    "Total products ordered: {order_status[0]}\n",
    "Percentage of products ordered: {order_status[1]:.0f}%''')"
   ]
  },
  {
   "cell_type": "markdown",
   "id": "5e4272a5",
   "metadata": {},
   "source": [
    "# Inventory update"
   ]
  },
  {
   "cell_type": "code",
   "execution_count": 13,
   "id": "0b19db75",
   "metadata": {},
   "outputs": [],
   "source": [
    "def inventory_update():\n",
    "    for product in customer_orders:\n",
    "        if product in inventory:\n",
    "            inventory[product] -= 1\n",
    "inventory_update()"
   ]
  },
  {
   "cell_type": "code",
   "execution_count": 14,
   "id": "51a583d6",
   "metadata": {},
   "outputs": [
    {
     "name": "stdout",
     "output_type": "stream",
     "text": [
      "t-shirt: 9\n",
      "mug: 44\n",
      "hat: 8\n",
      "book: 11\n",
      "keychain: 11\n"
     ]
    }
   ],
   "source": [
    "for product, quantity in inventory.items():\n",
    "    print(f'{product}: {quantity}')"
   ]
  },
  {
   "cell_type": "code",
   "execution_count": null,
   "id": "d1bdb8b5",
   "metadata": {},
   "outputs": [],
   "source": []
  }
 ],
 "metadata": {
  "kernelspec": {
   "display_name": "Python 3 (ipykernel)",
   "language": "python",
   "name": "python3"
  },
  "language_info": {
   "codemirror_mode": {
    "name": "ipython",
    "version": 3
   },
   "file_extension": ".py",
   "mimetype": "text/x-python",
   "name": "python",
   "nbconvert_exporter": "python",
   "pygments_lexer": "ipython3",
   "version": "3.9.13"
  }
 },
 "nbformat": 4,
 "nbformat_minor": 5
}
