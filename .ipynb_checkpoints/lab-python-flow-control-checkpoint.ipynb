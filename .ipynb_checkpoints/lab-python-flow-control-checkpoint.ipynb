{
 "cells": [
  {
   "cell_type": "markdown",
   "id": "d3bfc191-8885-42ee-b0a0-bbab867c6f9f",
   "metadata": {
    "tags": []
   },
   "source": [
    "# Lab | Flow Control"
   ]
  },
  {
   "cell_type": "markdown",
   "id": "3851fcd1-cf98-4653-9c89-e003b7ec9400",
   "metadata": {},
   "source": [
    "## Exercise: Managing Customer Orders Optimized\n",
    "\n",
    "In the last lab, you were starting an online store that sells various products. To ensure smooth operations, you developed a program that manages customer orders and inventory.\n",
    "\n",
    "You did so without using flow control. Let's go a step further and improve this code.\n",
    "\n",
    "Follow the steps below to complete the exercise:\n",
    "\n",
    "1. Look at your code from the lab data structures, and improve repeated code with loops.\n",
    "\n",
    "2. Instead of asking the user to input the name of three products that a customer wants to order, do the following:\n",
    "    \n",
    "    a. Prompt the user to enter the name of a product that a customer wants to order.\n",
    "    \n",
    "    b. Add the product name to the \"customer_orders\" set.\n",
    "    \n",
    "    c. Ask the user if they want to add another product (yes/no).\n",
    "    \n",
    "    d. Continue the loop until the user does not want to add another product.\n",
    "\n",
    "3. Instead of updating the inventory by subtracting 1 from the quantity of each product, only do it for  the products that were ordered (those in \"customer_orders\")."
   ]
  },
  {
   "cell_type": "markdown",
   "id": "506bb81a",
   "metadata": {},
   "source": [
    "# Inventory"
   ]
  },
  {
   "cell_type": "code",
   "execution_count": 1,
   "id": "eefa8e4f",
   "metadata": {},
   "outputs": [],
   "source": [
    "products = ['t-shirt', 'mug', 'hat', 'book', 'keychain']\n",
    "inventory = {}\n",
    "customer_orders = set()"
   ]
  },
  {
   "cell_type": "markdown",
   "id": "8066758d",
   "metadata": {},
   "source": [
    "## Quantity of each product"
   ]
  },
  {
   "cell_type": "code",
   "execution_count": 2,
   "id": "8f050f42",
   "metadata": {},
   "outputs": [],
   "source": [
    "# Ask the user to specify the quantity of each product\n",
    "def ask_inventory():\n",
    "    for product in products:\n",
    "    \n",
    "        while True:\n",
    "            quantity = input(f'How many items of {product} are available?: ')\n",
    "        \n",
    "            # Check whether the input is valid\n",
    "            if quantity.isdigit() == False: print('Please enter a valid number.')\n",
    "        \n",
    "            else:\n",
    "                # Store the product and its quantity in the inventory\n",
    "                inventory[product] = int(quantity)\n",
    "                break"
   ]
  },
  {
   "cell_type": "code",
   "execution_count": 3,
   "id": "a85c8601",
   "metadata": {},
   "outputs": [
    {
     "name": "stdout",
     "output_type": "stream",
     "text": [
      "How many items of t-shirt are available?: 32\n",
      "How many items of mug are available?: 23\n",
      "How many items of hat are available?: 12\n",
      "How many items of book are available?: 78\n",
      "How many items of keychain are available?: 43\n",
      "{'t-shirt': 32, 'mug': 23, 'hat': 12, 'book': 78, 'keychain': 43}\n"
     ]
    }
   ],
   "source": [
    "ask_inventory()\n",
    "print(inventory)"
   ]
  },
  {
   "cell_type": "markdown",
   "id": "5dbdc160",
   "metadata": {},
   "source": [
    "## Customer selects 3 products"
   ]
  },
  {
   "cell_type": "code",
   "execution_count": 4,
   "id": "6ce55f5a",
   "metadata": {},
   "outputs": [],
   "source": [
    "# Ask the user to specify three products\n",
    "def three_products():\n",
    "    while True:\n",
    "        product = input(f'Please enter a product: ').strip().lower()\n",
    "         \n",
    "        # Check whether the input is valid\n",
    "        if product not in products: \n",
    "            print('There is a typo. Try again.')  \n",
    "            \n",
    "        # Store unique products in the set\n",
    "        else:\n",
    "            customer_orders.add(product)\n",
    "            \n",
    "            while True:\n",
    "                answer = input('Do you want to add another product (yes/no)?: ').strip().lower()\n",
    "            \n",
    "                if answer not in ('yes','no'):\n",
    "                    print('There is a typo. Try again.')\n",
    "                \n",
    "                elif answer == 'yes':\n",
    "                    break\n",
    "                \n",
    "                elif answer == 'no':\n",
    "                    return"
   ]
  },
  {
   "cell_type": "code",
   "execution_count": 5,
   "id": "fedb3cf1",
   "metadata": {},
   "outputs": [
    {
     "name": "stdout",
     "output_type": "stream",
     "text": [
      "Please enter a product: mug\n",
      "Do you want to add another product (yes/no)?: no\n",
      "{'mug'}\n"
     ]
    }
   ],
   "source": [
    "three_products()\n",
    "print(customer_orders)"
   ]
  },
  {
   "cell_type": "markdown",
   "id": "efa1cc33",
   "metadata": {},
   "source": [
    "# Statistics\n",
    "## Total products ordered"
   ]
  },
  {
   "cell_type": "code",
   "execution_count": 6,
   "id": "85ab25cd",
   "metadata": {},
   "outputs": [],
   "source": [
    "#def find_number_products():\n",
    "    #return sum(number_product for product, number_product in inventory.items() if product in customer_orders)"
   ]
  },
  {
   "cell_type": "code",
   "execution_count": 7,
   "id": "ba44d37c",
   "metadata": {},
   "outputs": [],
   "source": [
    "#find_number_products = find_number_products()\n",
    "#print(find_number_products)"
   ]
  },
  {
   "cell_type": "markdown",
   "id": "e1329c62",
   "metadata": {},
   "source": [
    "## Percentage ordered"
   ]
  },
  {
   "cell_type": "code",
   "execution_count": 8,
   "id": "2e966ce0",
   "metadata": {},
   "outputs": [],
   "source": [
    "number_products = len(customer_orders)\n",
    "percentage_ordered = len(customer_orders) / len(products) * 100\n",
    "order_status = (number_products, percentage_ordered)"
   ]
  },
  {
   "cell_type": "code",
   "execution_count": 9,
   "id": "4a73b563",
   "metadata": {},
   "outputs": [
    {
     "name": "stdout",
     "output_type": "stream",
     "text": [
      "Order Statistics:\n",
      "Total products ordered: 1\n",
      "Percentage of products ordered: 20%\n"
     ]
    }
   ],
   "source": [
    "print(f'''Order Statistics:\n",
    "Total products ordered: {order_status[0]}\n",
    "Percentage of products ordered: {order_status[1]:.0f}%''')"
   ]
  },
  {
   "cell_type": "markdown",
   "id": "ef6c36fc",
   "metadata": {},
   "source": [
    "# Inventory update"
   ]
  },
  {
   "cell_type": "code",
   "execution_count": 10,
   "id": "1400a0e3",
   "metadata": {},
   "outputs": [],
   "source": [
    "def inventory_update():\n",
    "    for product in customer_orders:\n",
    "        if product in inventory:\n",
    "            inventory[product] -= 1\n",
    "inventory_update()"
   ]
  },
  {
   "cell_type": "code",
   "execution_count": 11,
   "id": "188a6989",
   "metadata": {},
   "outputs": [
    {
     "name": "stdout",
     "output_type": "stream",
     "text": [
      "t-shirt: 32\n",
      "mug: 22\n",
      "hat: 12\n",
      "book: 78\n",
      "keychain: 43\n"
     ]
    }
   ],
   "source": [
    "for product, quantity in inventory.items():\n",
    "    print(f'{product}: {quantity}')"
   ]
  },
  {
   "cell_type": "code",
   "execution_count": null,
   "id": "73280237",
   "metadata": {},
   "outputs": [],
   "source": []
  }
 ],
 "metadata": {
  "kernelspec": {
   "display_name": "Python 3 (ipykernel)",
   "language": "python",
   "name": "python3"
  },
  "language_info": {
   "codemirror_mode": {
    "name": "ipython",
    "version": 3
   },
   "file_extension": ".py",
   "mimetype": "text/x-python",
   "name": "python",
   "nbconvert_exporter": "python",
   "pygments_lexer": "ipython3",
   "version": "3.9.13"
  }
 },
 "nbformat": 4,
 "nbformat_minor": 5
}
